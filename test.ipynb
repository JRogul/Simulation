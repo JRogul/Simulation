{
 "cells": [
  {
   "cell_type": "code",
   "execution_count": 1,
   "metadata": {},
   "outputs": [],
   "source": [
    "import numpy as np\n",
    "import matplotlib.pyplot as plt\n",
    "import matplotlib.animation as animation\n",
    "import cv2\n",
    "from src.simulation import Simulation\n",
    "from src.particle import Particle\n",
    "import os\n",
    "import moviepy.video.io.ImageSequenceClip"
   ]
  },
  {
   "cell_type": "code",
   "execution_count": 2,
   "metadata": {},
   "outputs": [],
   "source": [
    "simulation = Simulation(size=[-50, 50])\n",
    "simulation.create_particles(20)"
   ]
  },
  {
   "cell_type": "code",
   "execution_count": 3,
   "metadata": {},
   "outputs": [],
   "source": [
    "def plot_simulation(particles, frame_number):\n",
    "    fig, ax = plt.subplots(figsize=(6, 4))\n",
    "    ax.set_ylim([-50,50])\n",
    "    ax.set_xlim([-50,50])\n",
    "    for particle in particles:\n",
    "        x, y = particle.position\n",
    "        ax.scatter(x, y, s=particle.mass)\n",
    "\n",
    "    ax.set_xlabel('X Coordinate')\n",
    "    ax.set_ylabel('Y Coordinate')\n",
    "    ax.set_title('Particle Simulation')\n",
    "    plt.savefig(f'images\\\\frame_{frame_number:04d}.png')\n",
    "    plt.close()"
   ]
  },
  {
   "cell_type": "code",
   "execution_count": 4,
   "metadata": {},
   "outputs": [],
   "source": [
    "def write_to_video():\n",
    "    image_folder='images'\n",
    "    fps=10\n",
    "    image_files = [os.path.join(image_folder,img)\n",
    "               for img in os.listdir(image_folder)\n",
    "               if img.endswith(\".png\")]\n",
    "    clip = moviepy.video.io.ImageSequenceClip.ImageSequenceClip(image_files, fps=fps)\n",
    "    clip.write_videofile('videos\\\\wideo_0.mp4')    "
   ]
  },
  {
   "cell_type": "code",
   "execution_count": 5,
   "metadata": {},
   "outputs": [
    {
     "name": "stdout",
     "output_type": "stream",
     "text": [
      "{'mass': -1.3143254376527267, 'position': array([-17.19029595,   6.75053407])}\n",
      "Moviepy - Building video videos\\wideo_0.mp4.\n",
      "Moviepy - Writing video videos\\wideo_0.mp4\n",
      "\n"
     ]
    },
    {
     "name": "stderr",
     "output_type": "stream",
     "text": [
      "                                                             "
     ]
    },
    {
     "name": "stdout",
     "output_type": "stream",
     "text": [
      "Moviepy - Done !\n",
      "Moviepy - video ready videos\\wideo_0.mp4\n"
     ]
    },
    {
     "name": "stderr",
     "output_type": "stream",
     "text": [
      "\r"
     ]
    }
   ],
   "source": [
    "time_step = 1\n",
    "num_steps = 50\n",
    "for step in range(num_steps):\n",
    "    simulation.simulate(time_step)\n",
    "    plot_simulation(simulation.particles, step)\n",
    "print(simulation.particles[1].__dict__)\n",
    "write_to_video()"
   ]
  },
  {
   "cell_type": "markdown",
   "metadata": {},
   "source": []
  },
  {
   "cell_type": "code",
   "execution_count": null,
   "metadata": {},
   "outputs": [],
   "source": []
  }
 ],
 "metadata": {
  "kernelspec": {
   "display_name": "venv",
   "language": "python",
   "name": "python3"
  },
  "language_info": {
   "codemirror_mode": {
    "name": "ipython",
    "version": 3
   },
   "file_extension": ".py",
   "mimetype": "text/x-python",
   "name": "python",
   "nbconvert_exporter": "python",
   "pygments_lexer": "ipython3",
   "version": "3.9.11"
  },
  "orig_nbformat": 4
 },
 "nbformat": 4,
 "nbformat_minor": 2
}
